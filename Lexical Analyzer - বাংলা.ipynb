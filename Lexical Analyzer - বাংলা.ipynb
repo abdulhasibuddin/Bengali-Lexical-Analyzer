{
 "cells": [
  {
   "cell_type": "code",
   "execution_count": 1,
   "metadata": {},
   "outputs": [],
   "source": [
    "# Lexical Analyzer for Bangla\n",
    "# copyright (c) ABDUL HASIB UDDIN <abdulhasibuddin@gmail.com>\n",
    "# LICENSE: MIT"
   ]
  },
  {
   "cell_type": "code",
   "execution_count": 2,
   "metadata": {},
   "outputs": [
    {
     "name": "stdout",
     "output_type": "stream",
     "text": [
      "<_io.TextIOWrapper name='test inputs - বাংলা.txt' mode='r' encoding='UTF-8'>\n"
     ]
    }
   ],
   "source": [
    "inputObject = open(\"test inputs - বাংলা.txt\",\"r\",encoding='UTF-8')\n",
    "print(inputObject)\n",
    "inputString = inputObject.read()"
   ]
  },
  {
   "cell_type": "code",
   "execution_count": 3,
   "metadata": {},
   "outputs": [],
   "source": [
    "#Taking input string:\n",
    "#inputString = input(\"Enter code: \")"
   ]
  },
  {
   "cell_type": "code",
   "execution_count": 4,
   "metadata": {},
   "outputs": [
    {
     "name": "stdout",
     "output_type": "stream",
     "text": [
      "﻿ইন্ট মেইন()\n",
      "{\n",
      "\t//এটি একটি এক লাইনের কমেন্ট\n",
      "\tআইডি১ = ১০;\n",
      "\tআইডি২ = ১০.৫;\n",
      "\tআইডি৩ = \"স্ট্রিং\";\n",
      "\tকার স্ট্রিং[১০];\n",
      "\n",
      "\t/*এটি একটি\n",
      "\tএকাধিক লাইনের কমেন্ট*/\n",
      "\tপ্রিন্ট(\"ইনপুট দিনঃ %ই\",আইডি১);\n",
      "\tস্ক্যান(\"%ই\",&আইডি৩);\n",
      "\n",
      "\tফর(ইন্ট ক=০; ;ক++)\n",
      "\t{\n",
      "\t\tইফ(স্ট্রিং[ক]=='\\০') { ব্রেক; }\n",
      "\t}\n",
      "}\n",
      "\n"
     ]
    },
    {
     "data": {
      "text/plain": [
       "'\\ufeffইন্ট মেইন()\\n{\\n\\t//এটি একটি এক লাইনের কমেন্ট\\n\\tআইডি১ = ১০;\\n\\tআইডি২ = ১০.৫;\\n\\tআইডি৩ = \"স্ট্রিং\";\\n\\tকার স্ট্রিং[১০];\\n\\n\\t/*এটি একটি\\n\\tএকাধিক লাইনের কমেন্ট*/\\n\\tপ্রিন্ট(\"ইনপুট দিনঃ %ই\",আইডি১);\\n\\tস্ক্যান(\"%ই\",&আইডি৩);\\n\\n\\tফর(ইন্ট ক=০; ;ক++)\\n\\t{\\n\\t\\tইফ(স্ট্রিং[ক]==\\'\\\\০\\') { ব্রেক; }\\n\\t}\\n}\\n'"
      ]
     },
     "execution_count": 4,
     "metadata": {},
     "output_type": "execute_result"
    }
   ],
   "source": [
    "print(inputString)\n",
    "inputString"
   ]
  },
  {
   "cell_type": "code",
   "execution_count": 5,
   "metadata": {},
   "outputs": [
    {
     "data": {
      "text/plain": [
       "[(1, 'লেক্সিক্যাল এররঃ আইডেন্টিফায়ারের নাম কখনও অংক দিয়ে শুরু হতে পারে না!')]"
      ]
     },
     "execution_count": 5,
     "metadata": {},
     "output_type": "execute_result"
    }
   ],
   "source": [
    "list_error = [(1,'লেক্সিক্যাল এররঃ আইডেন্টিফায়ারের নাম কখনও অংক দিয়ে শুরু হতে পারে না!')]\n",
    "list_error"
   ]
  },
  {
   "cell_type": "code",
   "execution_count": 6,
   "metadata": {},
   "outputs": [
    {
     "data": {
      "text/plain": [
       "['০', '১', '২', '৩', '৪', '৫', '৬', '৭', '৮', '৯']"
      ]
     },
     "execution_count": 6,
     "metadata": {},
     "output_type": "execute_result"
    }
   ],
   "source": [
    "list_digit = ['০','১','২','৩','৪','৫','৬','৭','৮','৯']\n",
    "list_digit"
   ]
  },
  {
   "cell_type": "code",
   "execution_count": 7,
   "metadata": {},
   "outputs": [
    {
     "name": "stdout",
     "output_type": "stream",
     "text": [
      "['_', 'অ', 'আ', 'ই', 'ঈ', 'উ', 'ঊ', 'ঋ', 'এ', 'ঐ', 'ও', 'ঔ', 'ক', 'খ', 'গ', 'ঘ', 'ঙ', 'চ', 'ছ', 'জ', 'ঝ', 'ঞ', 'ট', 'ঠ', 'ড', 'ঢ', 'ণ', 'ত', 'থ', 'দ', 'ধ', 'ন', 'প', 'ফ', 'ব', 'ভ', 'ম', 'য', 'র', 'ল', 'শ', 'ষ', 'স', 'হ', 'ড়', 'ঢ়', 'য়', 'ৎ', 'ক্ষ', 'ঁ', 'ং', 'ঃ', '়', 'া', 'ি', 'ী', 'ু', 'ূ', 'ৃ', 'ৄ', 'ে', 'ৈ', 'ো', 'ৌ', '্', 'ৗ', 'ৠ', 'ৢ', 'ৣ', 'ৰ', 'ৱ']\n"
     ]
    }
   ],
   "source": [
    "list_letter = ['_','অ','আ','ই','ঈ','উ','ঊ','ঋ','এ','ঐ','ও','ঔ','ক','খ','গ','ঘ','ঙ','চ','ছ','জ','ঝ','ঞ','ট','ঠ','ড',\n",
    "              'ঢ','ণ','ত','থ','দ','ধ','ন','প','ফ','ব','ভ','ম','য','র','ল','শ','ষ','স','হ','ড়','ঢ়','য়','ৎ','ক্ষ',\n",
    "              'ঁ','ং','ঃ','়','া','ি','ী','ু','ূ','ৃ','ৄ','ে','ৈ','ো','ৌ','্','ৗ','ৠ','ৢ','ৣ','ৰ','ৱ']\n",
    "print(list_letter)"
   ]
  },
  {
   "cell_type": "code",
   "execution_count": 8,
   "metadata": {},
   "outputs": [
    {
     "name": "stdout",
     "output_type": "stream",
     "text": [
      "['মেইন', 'ইন্ট', 'ফ্লোট', 'কার', 'ফর', 'হোয়াইল', 'ইফ', 'এলস', 'প্রিন্ট', 'স্ক্যান', 'রিটার্ন', 'ইনক্লুড', 'ডিফাইন', 'ব্রেক', 'গেটস', 'পুটস', 'অটো', 'ডাবল', 'স্ট্রাক্ট', 'লং', 'সুইচ', 'কেস', 'ইনাম', 'রেজিস্টার', 'টাইপডেফ', 'এক্সটার্ন', 'ইউনিয়ন', 'কন্টিনিউ', 'সাইনড', 'ভয়েড', 'ডু', 'স্ট্যাটিক', 'ডিফল্ট', 'গোটু', 'সাইজঅফ', 'ভোলাটাইল', 'কন্সট', 'শর্ট', 'আনসাইনড', 'নাল']\n"
     ]
    }
   ],
   "source": [
    "list_reserved = ['মেইন','ইন্ট','ফ্লোট','কার','ফর','হোয়াইল','ইফ','এলস','প্রিন্ট','স্ক্যান','রিটার্ন',\n",
    "                 'ইনক্লুড','ডিফাইন','ব্রেক','গেটস','পুটস','অটো','ডাবল','স্ট্রাক্ট','লং','সুইচ',\n",
    "                 'কেস','ইনাম','রেজিস্টার','টাইপডেফ','এক্সটার্ন','ইউনিয়ন','কন্টিনিউ','সাইনড','ভয়েড','ডু',\n",
    "                 'স্ট্যাটিক','ডিফল্ট','গোটু','সাইজঅফ','ভোলাটাইল','কন্সট','শর্ট','আনসাইনড','নাল']\n",
    "print(list_reserved)"
   ]
  },
  {
   "cell_type": "code",
   "execution_count": 9,
   "metadata": {},
   "outputs": [
    {
     "data": {
      "text/plain": [
       "[]"
      ]
     },
     "execution_count": 9,
     "metadata": {},
     "output_type": "execute_result"
    }
   ],
   "source": [
    "stream_of_token = []\n",
    "stream_of_token"
   ]
  },
  {
   "cell_type": "code",
   "execution_count": 10,
   "metadata": {},
   "outputs": [
    {
     "data": {
      "text/plain": [
       "[]"
      ]
     },
     "execution_count": 10,
     "metadata": {},
     "output_type": "execute_result"
    }
   ],
   "source": [
    "list_identifier = []\n",
    "list_identifier"
   ]
  },
  {
   "cell_type": "code",
   "execution_count": 11,
   "metadata": {},
   "outputs": [
    {
     "data": {
      "text/plain": [
       "False"
      ]
     },
     "execution_count": 11,
     "metadata": {},
     "output_type": "execute_result"
    }
   ],
   "source": [
    "start_char_is_digit = False\n",
    "start_char_is_digit"
   ]
  },
  {
   "cell_type": "code",
   "execution_count": 12,
   "metadata": {},
   "outputs": [
    {
     "data": {
      "text/plain": [
       "False"
      ]
     },
     "execution_count": 12,
     "metadata": {},
     "output_type": "execute_result"
    }
   ],
   "source": [
    "number_is_float = False\n",
    "number_is_float"
   ]
  },
  {
   "cell_type": "code",
   "execution_count": 13,
   "metadata": {},
   "outputs": [
    {
     "data": {
      "text/plain": [
       "False"
      ]
     },
     "execution_count": 13,
     "metadata": {},
     "output_type": "execute_result"
    }
   ],
   "source": [
    "number_is_negative = False\n",
    "number_is_negative"
   ]
  },
  {
   "cell_type": "code",
   "execution_count": 14,
   "metadata": {},
   "outputs": [
    {
     "data": {
      "text/plain": [
       "False"
      ]
     },
     "execution_count": 14,
     "metadata": {},
     "output_type": "execute_result"
    }
   ],
   "source": [
    "error_encountered = False\n",
    "error_encountered"
   ]
  },
  {
   "cell_type": "code",
   "execution_count": 15,
   "metadata": {},
   "outputs": [
    {
     "data": {
      "text/plain": [
       "False"
      ]
     },
     "execution_count": 15,
     "metadata": {},
     "output_type": "execute_result"
    }
   ],
   "source": [
    "scan_or_print_command = False\n",
    "scan_or_print_command"
   ]
  },
  {
   "cell_type": "code",
   "execution_count": 16,
   "metadata": {},
   "outputs": [
    {
     "data": {
      "text/plain": [
       "False"
      ]
     },
     "execution_count": 16,
     "metadata": {},
     "output_type": "execute_result"
    }
   ],
   "source": [
    "comment_is_set = False\n",
    "comment_is_set"
   ]
  },
  {
   "cell_type": "code",
   "execution_count": 17,
   "metadata": {},
   "outputs": [
    {
     "data": {
      "text/plain": [
       "False"
      ]
     },
     "execution_count": 17,
     "metadata": {},
     "output_type": "execute_result"
    }
   ],
   "source": [
    "multi_line_comment = False\n",
    "multi_line_comment"
   ]
  },
  {
   "cell_type": "code",
   "execution_count": 18,
   "metadata": {},
   "outputs": [
    {
     "data": {
      "text/plain": [
       "''"
      ]
     },
     "execution_count": 18,
     "metadata": {},
     "output_type": "execute_result"
    }
   ],
   "source": [
    "string_start_marker = ''\n",
    "string_start_marker"
   ]
  },
  {
   "cell_type": "code",
   "execution_count": 19,
   "metadata": {},
   "outputs": [
    {
     "data": {
      "text/plain": [
       "''"
      ]
     },
     "execution_count": 19,
     "metadata": {},
     "output_type": "execute_result"
    }
   ],
   "source": [
    "startingOperator = ''\n",
    "startingOperator"
   ]
  },
  {
   "cell_type": "code",
   "execution_count": 20,
   "metadata": {},
   "outputs": [
    {
     "data": {
      "text/plain": [
       "''"
      ]
     },
     "execution_count": 20,
     "metadata": {},
     "output_type": "execute_result"
    }
   ],
   "source": [
    "current_lexeme = ''\n",
    "current_lexeme"
   ]
  },
  {
   "cell_type": "code",
   "execution_count": 21,
   "metadata": {},
   "outputs": [],
   "source": [
    "def check_if_reserved_word(token):\n",
    "    print(token)\n",
    "    if token in list_reserved:\n",
    "        current_token = ('KEYWORD',token)\n",
    "    else:\n",
    "        for value in list_identifier:\n",
    "            if token==value[1]: #If current identifier already exists...\n",
    "                current_token = ('id',value[0])\n",
    "                stream_of_token.append(current_token)\n",
    "                return\n",
    "            \n",
    "        num_id = len(list_identifier)\n",
    "        current_token = (num_id+1,token)\n",
    "        list_identifier.append(current_token)\n",
    "        current_token = ('id',num_id+1)\n",
    "        \n",
    "    stream_of_token.append(current_token)\n",
    "    return"
   ]
  },
  {
   "cell_type": "code",
   "execution_count": 22,
   "metadata": {},
   "outputs": [],
   "source": [
    "def single_char_operator(op):\n",
    "    cur_token = ''\n",
    "    \n",
    "    if op=='+':\n",
    "        cur_token = ('OP','PLUS')\n",
    "    elif op=='-':\n",
    "        cur_token = ('OP','MINUS')\n",
    "    elif op=='*':\n",
    "        cur_token = ('OP','MULTIPLY')\n",
    "    elif op=='/':\n",
    "        cur_token = ('OP','DIVIDE')\n",
    "    elif op=='^':\n",
    "        cur_token = ('OP','POWER')\n",
    "    elif op=='~':\n",
    "        cur_token = ('OP','NOT')\n",
    "    elif op=='%':\n",
    "        cur_token = ('OP','MODULO')\n",
    "    elif op=='<':\n",
    "        cur_token = ('OP','LESS_THAN')\n",
    "    elif op=='>':\n",
    "        cur_token = ('OP','GREATER_THAN')\n",
    "    elif op=='=':\n",
    "        cur_token = ('OP','ASSIGN')\n",
    "    elif op=='&':\n",
    "        cur_token = ('OP','ASSIGN_INPUT_VALUE_TO')\n",
    "        \n",
    "    stream_of_token.append(cur_token)\n",
    "    return"
   ]
  },
  {
   "cell_type": "code",
   "execution_count": 23,
   "metadata": {},
   "outputs": [
    {
     "data": {
      "text/plain": [
       "['+', '-', '*', '/', '=', '<', '>', '~', '%', '!', '^', '&', '|']"
      ]
     },
     "execution_count": 23,
     "metadata": {},
     "output_type": "execute_result"
    }
   ],
   "source": [
    "#Necessary variables are declared here:\n",
    "list_operator = ['+', '-', '*', '/', '=', '<', '>', '~', '%', '!', '^', '&', '|']\n",
    "list_operator"
   ]
  },
  {
   "cell_type": "code",
   "execution_count": 24,
   "metadata": {},
   "outputs": [],
   "source": [
    "def double_char_operator(start_op,cur_op):\n",
    "    print(\"start_op= \"+start_op+\"; cur_op= \"+cur_op)\n",
    "    global number_is_negative, comment_is_set, scan_or_print_command, multi_line_comment\n",
    "    cur_token = ''\n",
    "    \n",
    "    if start_op=='=' and cur_op=='=':\n",
    "        cur_token = ('OP','EQUAL')\n",
    "    elif start_op=='+' and cur_op=='=':\n",
    "        cur_token = ('OP','PLUS_EQUAL')\n",
    "    elif start_op=='-' and cur_op=='=':\n",
    "        cur_token = ('OP','MINUS_EQUAL')\n",
    "    elif start_op=='+' and cur_op=='+':\n",
    "        cur_token = ('OP','INCREAMENT')\n",
    "    elif start_op=='-' and cur_op=='-':\n",
    "        cur_token = ('OP','DECREAMENT')\n",
    "    elif start_op=='*' and cur_op=='=':\n",
    "        cur_token = ('OP','MULTIPLY_AND_ASSIGN')\n",
    "    elif start_op=='/' and cur_op=='=':\n",
    "        cur_token= ('OP','DIVIDE_AND_ASSIGN')\n",
    "    elif start_op=='/' and cur_op=='/':\n",
    "        comment_is_set = True\n",
    "        return\n",
    "    elif start_op=='/' and cur_op=='*':\n",
    "        multi_line_comment = True\n",
    "        return\n",
    "    elif start_op=='<' and cur_op=='=':\n",
    "        cur_token = ('OP','LE')\n",
    "    elif start_op=='>' and cur_op=='=':\n",
    "        cur_token = ('OP','GE')\n",
    "    elif start_op=='!' and cur_op=='=':\n",
    "        cur_token = ('OP','NE')\n",
    "    elif start_op=='%' and cur_op=='=':\n",
    "        cur_token = ('OP','MODULO_AND_ASSIGN')\n",
    "    elif start_op=='-' and cur_op=='-':\n",
    "        cur_token = ('OP','DOUBLE_NEGATIVE')\n",
    "    elif start_op=='|' and cur_op=='|':\n",
    "        cur_token = ('OP','OR')\n",
    "    elif start_op=='&' and cur_op=='&':\n",
    "        cur_token = ('OP','AND')\n",
    "    elif start_op in list_operator and cur_op=='%':\n",
    "        single_char_operator(start_op)\n",
    "        scan_or_print_command = True\n",
    "        return\n",
    "    elif start_op in list_operator and cur_op=='\\\\':\n",
    "        single_char_operator(start_op)\n",
    "        comment_is_set = True\n",
    "        return\n",
    "    elif start_op in list_operator and cur_op in list_operator:\n",
    "        single_char_operator(start_op)\n",
    "        single_char_operator(cur_op)\n",
    "        return\n",
    "    \n",
    "    stream_of_token.append(cur_token)\n",
    "    return"
   ]
  },
  {
   "cell_type": "code",
   "execution_count": 25,
   "metadata": {},
   "outputs": [
    {
     "data": {
      "text/plain": [
       "['(', ')', '[', ']', '{', '}', ';', '\"', \"'\", ',', '\\\\', '#']"
      ]
     },
     "execution_count": 25,
     "metadata": {},
     "output_type": "execute_result"
    }
   ],
   "source": [
    "list_symbol = ['(',')','[',']','{','}',';','\"','\\'',',','\\\\','#']\n",
    "list_symbol"
   ]
  },
  {
   "cell_type": "code",
   "execution_count": 26,
   "metadata": {},
   "outputs": [],
   "source": [
    "def check_symbol(symbol):\n",
    "    cur_token = ''\n",
    "    global string_start_marker\n",
    "    \n",
    "    if symbol=='(':\n",
    "        cur_token = ('SYMBOL','OPENING_PARENTHESES')\n",
    "    elif symbol==')':\n",
    "        cur_token = ('SYMBOL','CLOSING_PARENTHESES')\n",
    "    elif symbol=='{':\n",
    "        cur_token = ('SYMBOL','OPENING_CURLY_BRACKET')\n",
    "    elif symbol=='}':\n",
    "        cur_token = ('SYMBOL','CLOSING_CURLY_BRACKET')\n",
    "    elif symbol=='[':\n",
    "        cur_token = ('SYMBOL','OPENING_SQUARE_BRACKET')\n",
    "    elif symbol==']':\n",
    "        cur_token = ('SYMBOL','CLOSING_SQUARE_BRACKET')\n",
    "    elif symbol==';':\n",
    "        cur_token = ('SYMBOL','EOL_OR_SEPERATOR') #EOL -> End Of Line\n",
    "    elif symbol=='\"':\n",
    "        cur_token = ('SYMBOL','DOUBLE_QUOTE')\n",
    "        if string_start_marker=='':\n",
    "            string_start_marker = symbol\n",
    "    elif symbol=='\\'':\n",
    "        cur_token = ('SYMBOL','SINGLE_QUOTE')\n",
    "    elif symbol==',':\n",
    "        cur_token = ('SYMBOL','COMMA')\n",
    "    elif symbol=='#':\n",
    "        cur_token = ('SYMBOL','HASHTAG')\n",
    "        \n",
    "    stream_of_token.append(cur_token)\n",
    "    return"
   ]
  },
  {
   "cell_type": "code",
   "execution_count": 27,
   "metadata": {},
   "outputs": [],
   "source": [
    "#Error Check: If variable name starts with digits:\n",
    "def check_for_errors(ch):\n",
    "    global error_encountered\n",
    "    if ch in list_letter and start_char_is_digit==True:\n",
    "        print(\"এরর \",current_lexeme,'এর কাছে; এরর নংঃ ',list_error[0][0],'; ',list_error[0][1])\n",
    "        error_encountered = True\n",
    "    return"
   ]
  },
  {
   "cell_type": "code",
   "execution_count": 28,
   "metadata": {},
   "outputs": [],
   "source": [
    "def command_for_backslash(ch):\n",
    "    cur_token = ''\n",
    "    \n",
    "    if ch=='ন':\n",
    "        cur_token = ('SPECIAL_COMMAND','NEWLINE')\n",
    "    elif ch=='ট':\n",
    "        cur_token = ('SPECIAL_COMMAND','TAB')\n",
    "    \n",
    "    stream_of_token.append(cur_token)\n",
    "    return"
   ]
  },
  {
   "cell_type": "code",
   "execution_count": 29,
   "metadata": {},
   "outputs": [],
   "source": [
    "def scan_or_print_type(current_lexeme):\n",
    "    if current_lexeme=='ই':\n",
    "        cur_token = ('SCAN_OR_PRINT_OF_TYPE','INTEGER')\n",
    "    elif current_lexeme=='ফ':\n",
    "        cur_token = ('SCAN_OR_PRINT_OF_TYPE','FLOAT')\n",
    "    elif current_lexeme=='ক':\n",
    "        cur_token = ('SCAN_OR_PRINT_OF_TYPE','CHARACTER')\n",
    "    \n",
    "    stream_of_token.append(cur_token)\n",
    "    return"
   ]
  },
  {
   "cell_type": "code",
   "execution_count": 30,
   "metadata": {},
   "outputs": [],
   "source": [
    "def ckeck_start_char(ch):\n",
    "    global current_lexeme, start_char_is_digit\n",
    "    \n",
    "    if ch in list_operator and current_lexeme=='': #If the start character is an operator...\n",
    "        #start_char_is_op = True\n",
    "        current_lexeme = ch\n",
    "        return\n",
    "    \n",
    "    if ch in list_letter and current_lexeme=='': #If the start character is a letter...\n",
    "        current_lexeme = ch\n",
    "        return\n",
    "    \n",
    "    if ch in list_digit and current_lexeme=='': #If the start character is a digit...\n",
    "        start_char_is_digit = True\n",
    "        current_lexeme = ch\n",
    "        return\n",
    "    \n",
    "    if ch in list_symbol and current_lexeme=='': #If the start character is a symbol...\n",
    "        check_symbol(ch)\n",
    "        return"
   ]
  },
  {
   "cell_type": "code",
   "execution_count": 31,
   "metadata": {},
   "outputs": [
    {
     "data": {
      "text/plain": [
       "266"
      ]
     },
     "execution_count": 31,
     "metadata": {},
     "output_type": "execute_result"
    }
   ],
   "source": [
    "counter = len(inputString)\n",
    "counter"
   ]
  },
  {
   "cell_type": "code",
   "execution_count": 32,
   "metadata": {},
   "outputs": [
    {
     "name": "stdout",
     "output_type": "stream",
     "text": [
      "ch=  ﻿ ; current_lexeme= \n",
      "ch=  ই ; current_lexeme= \n",
      "ch=  ন ; current_lexeme= ই\n",
      "ch=  ্ ; current_lexeme= ইন\n",
      "ch=  ট ; current_lexeme= ইন্\n",
      "ch=    ; current_lexeme= ইন্ট\n",
      "ইন্ট\n",
      "ch=  ম ; current_lexeme= \n",
      "ch=  ে ; current_lexeme= ম\n",
      "ch=  ই ; current_lexeme= মে\n",
      "ch=  ন ; current_lexeme= মেই\n",
      "ch=  ( ; current_lexeme= মেইন\n",
      "মেইন\n",
      "ch=  ) ; current_lexeme= \n",
      "ch=  \n",
      " ; current_lexeme= \n",
      "ch=  { ; current_lexeme= \n",
      "ch=  \n",
      " ; current_lexeme= \n",
      "ch=  \t ; current_lexeme= \n",
      "ch=  / ; current_lexeme= \n",
      "ch=  / ; current_lexeme= /\n",
      "start_op= /; cur_op= /\n",
      "ch=  এ ; current_lexeme= \n",
      "ch=  ট ; current_lexeme= \n",
      "ch=  ি ; current_lexeme= \n",
      "ch=    ; current_lexeme= \n",
      "ch=  এ ; current_lexeme= \n",
      "ch=  ক ; current_lexeme= \n",
      "ch=  ট ; current_lexeme= \n",
      "ch=  ি ; current_lexeme= \n",
      "ch=    ; current_lexeme= \n",
      "ch=  এ ; current_lexeme= \n",
      "ch=  ক ; current_lexeme= \n",
      "ch=    ; current_lexeme= \n",
      "ch=  ল ; current_lexeme= \n",
      "ch=  া ; current_lexeme= \n",
      "ch=  ই ; current_lexeme= \n",
      "ch=  ন ; current_lexeme= \n",
      "ch=  ে ; current_lexeme= \n",
      "ch=  র ; current_lexeme= \n",
      "ch=    ; current_lexeme= \n",
      "ch=  ক ; current_lexeme= \n",
      "ch=  ম ; current_lexeme= \n",
      "ch=  ে ; current_lexeme= \n",
      "ch=  ন ; current_lexeme= \n",
      "ch=  ্ ; current_lexeme= \n",
      "ch=  ট ; current_lexeme= \n",
      "ch=  \n",
      " ; current_lexeme= \n",
      "ch=  \t ; current_lexeme= \n",
      "ch=  আ ; current_lexeme= \n",
      "ch=  ই ; current_lexeme= আ\n",
      "ch=  ড ; current_lexeme= আই\n",
      "ch=  ি ; current_lexeme= আইড\n",
      "ch=  ১ ; current_lexeme= আইডি\n",
      "ch=    ; current_lexeme= আইডি১\n",
      "আইডি১\n",
      "ch=  = ; current_lexeme= \n",
      "ch=    ; current_lexeme= =\n",
      "ch=  ১ ; current_lexeme= \n",
      "ch=  ০ ; current_lexeme= ১\n",
      "ch=  ; ; current_lexeme= ১০\n",
      "ch=  \n",
      " ; current_lexeme= \n",
      "ch=  \t ; current_lexeme= \n",
      "ch=  আ ; current_lexeme= \n",
      "ch=  ই ; current_lexeme= আ\n",
      "ch=  ড ; current_lexeme= আই\n",
      "ch=  ি ; current_lexeme= আইড\n",
      "ch=  ২ ; current_lexeme= আইডি\n",
      "ch=    ; current_lexeme= আইডি২\n",
      "আইডি২\n",
      "ch=  = ; current_lexeme= \n",
      "ch=    ; current_lexeme= =\n",
      "ch=  ১ ; current_lexeme= \n",
      "ch=  ০ ; current_lexeme= ১\n",
      "ch=  . ; current_lexeme= ১০\n",
      "ch=  ৫ ; current_lexeme= ১০.\n",
      "ch=  ; ; current_lexeme= ১০.৫\n",
      "ch=  \n",
      " ; current_lexeme= \n",
      "ch=  \t ; current_lexeme= \n",
      "ch=  আ ; current_lexeme= \n",
      "ch=  ই ; current_lexeme= আ\n",
      "ch=  ড ; current_lexeme= আই\n",
      "ch=  ি ; current_lexeme= আইড\n",
      "ch=  ৩ ; current_lexeme= আইডি\n",
      "ch=    ; current_lexeme= আইডি৩\n",
      "আইডি৩\n",
      "ch=  = ; current_lexeme= \n",
      "ch=    ; current_lexeme= =\n",
      "ch=  \" ; current_lexeme= \n",
      "ch=  স ; current_lexeme= \n",
      "ch=  ্ ; current_lexeme= স\n",
      "ch=  ট ; current_lexeme= স্\n",
      "ch=  ্ ; current_lexeme= স্ট\n",
      "ch=  র ; current_lexeme= স্ট্\n",
      "ch=  ি ; current_lexeme= স্ট্র\n",
      "ch=  ং ; current_lexeme= স্ট্রি\n",
      "ch=  \" ; current_lexeme= স্ট্রিং\n",
      "ch=  ; ; current_lexeme= \n",
      "ch=  \n",
      " ; current_lexeme= \n",
      "ch=  \t ; current_lexeme= \n",
      "ch=  ক ; current_lexeme= \n",
      "ch=  া ; current_lexeme= ক\n",
      "ch=  র ; current_lexeme= কা\n",
      "ch=    ; current_lexeme= কার\n",
      "কার\n",
      "ch=  স ; current_lexeme= \n",
      "ch=  ্ ; current_lexeme= স\n",
      "ch=  ট ; current_lexeme= স্\n",
      "ch=  ্ ; current_lexeme= স্ট\n",
      "ch=  র ; current_lexeme= স্ট্\n",
      "ch=  ি ; current_lexeme= স্ট্র\n",
      "ch=  ং ; current_lexeme= স্ট্রি\n",
      "ch=  [ ; current_lexeme= স্ট্রিং\n",
      "স্ট্রিং\n",
      "ch=  ১ ; current_lexeme= \n",
      "ch=  ০ ; current_lexeme= ১\n",
      "ch=  ] ; current_lexeme= ১০\n",
      "ch=  ; ; current_lexeme= \n",
      "ch=  \n",
      " ; current_lexeme= \n",
      "ch=  \n",
      " ; current_lexeme= \n",
      "ch=  \t ; current_lexeme= \n",
      "ch=  / ; current_lexeme= \n",
      "ch=  * ; current_lexeme= /\n",
      "start_op= /; cur_op= *\n",
      "ch=  এ ; current_lexeme= \n",
      "ch=  ট ; current_lexeme= এ\n",
      "ch=  ি ; current_lexeme= ট\n",
      "ch=    ; current_lexeme= ি\n",
      "ch=  এ ; current_lexeme=  \n",
      "ch=  ক ; current_lexeme= এ\n",
      "ch=  ট ; current_lexeme= ক\n",
      "ch=  ি ; current_lexeme= ট\n",
      "ch=  \n",
      " ; current_lexeme= ি\n",
      "ch=  \t ; current_lexeme= \n",
      "\n",
      "ch=  এ ; current_lexeme= \t\n",
      "ch=  ক ; current_lexeme= এ\n",
      "ch=  া ; current_lexeme= ক\n",
      "ch=  ধ ; current_lexeme= া\n",
      "ch=  ি ; current_lexeme= ধ\n",
      "ch=  ক ; current_lexeme= ি\n",
      "ch=    ; current_lexeme= ক\n",
      "ch=  ল ; current_lexeme=  \n",
      "ch=  া ; current_lexeme= ল\n",
      "ch=  ই ; current_lexeme= া\n",
      "ch=  ন ; current_lexeme= ই\n",
      "ch=  ে ; current_lexeme= ন\n",
      "ch=  র ; current_lexeme= ে\n",
      "ch=    ; current_lexeme= র\n",
      "ch=  ক ; current_lexeme=  \n",
      "ch=  ম ; current_lexeme= ক\n",
      "ch=  ে ; current_lexeme= ম\n",
      "ch=  ন ; current_lexeme= ে\n",
      "ch=  ্ ; current_lexeme= ন\n",
      "ch=  ট ; current_lexeme= ্\n",
      "ch=  * ; current_lexeme= ট\n",
      "ch=  / ; current_lexeme= *\n",
      "ch=  \n",
      " ; current_lexeme= \n",
      "ch=  \t ; current_lexeme= \n",
      "ch=  প ; current_lexeme= \n",
      "ch=  ্ ; current_lexeme= প\n",
      "ch=  র ; current_lexeme= প্\n",
      "ch=  ি ; current_lexeme= প্র\n",
      "ch=  ন ; current_lexeme= প্রি\n",
      "ch=  ্ ; current_lexeme= প্রিন\n",
      "ch=  ট ; current_lexeme= প্রিন্\n",
      "ch=  ( ; current_lexeme= প্রিন্ট\n",
      "প্রিন্ট\n",
      "ch=  \" ; current_lexeme= \n",
      "ch=  ই ; current_lexeme= \n",
      "ch=  ন ; current_lexeme= ই\n",
      "ch=  প ; current_lexeme= ইন\n",
      "ch=  ু ; current_lexeme= ইনপ\n",
      "ch=  ট ; current_lexeme= ইনপু\n",
      "ch=    ; current_lexeme= ইনপুট\n",
      "ch=  দ ; current_lexeme= ইনপুট \n",
      "ch=  ি ; current_lexeme= ইনপুট দ\n",
      "ch=  ন ; current_lexeme= ইনপুট দি\n",
      "ch=  ঃ ; current_lexeme= ইনপুট দিন\n",
      "ch=    ; current_lexeme= ইনপুট দিনঃ\n",
      "ch=  % ; current_lexeme= ইনপুট দিনঃ \n",
      "ch=  ই ; current_lexeme= %\n",
      "ch=  \" ; current_lexeme= \n",
      "ch=  , ; current_lexeme= \n",
      "ch=  আ ; current_lexeme= \n",
      "ch=  ই ; current_lexeme= আ\n",
      "ch=  ড ; current_lexeme= আই\n",
      "ch=  ি ; current_lexeme= আইড\n",
      "ch=  ১ ; current_lexeme= আইডি\n",
      "ch=  ) ; current_lexeme= আইডি১\n",
      "আইডি১\n",
      "ch=  ; ; current_lexeme= \n",
      "ch=  \n",
      " ; current_lexeme= \n",
      "ch=  \t ; current_lexeme= \n",
      "ch=  স ; current_lexeme= \n",
      "ch=  ্ ; current_lexeme= স\n",
      "ch=  ক ; current_lexeme= স্\n",
      "ch=  ্ ; current_lexeme= স্ক\n",
      "ch=  য ; current_lexeme= স্ক্\n",
      "ch=  া ; current_lexeme= স্ক্য\n",
      "ch=  ন ; current_lexeme= স্ক্যা\n",
      "ch=  ( ; current_lexeme= স্ক্যান\n",
      "স্ক্যান\n",
      "ch=  \" ; current_lexeme= \n",
      "ch=  % ; current_lexeme= \n",
      "ch=  ই ; current_lexeme= %\n",
      "ch=  \" ; current_lexeme= \n",
      "ch=  , ; current_lexeme= \n",
      "ch=  & ; current_lexeme= \n",
      "ch=  আ ; current_lexeme= &\n",
      "ch=  ই ; current_lexeme= আ\n",
      "ch=  ড ; current_lexeme= আই\n",
      "ch=  ি ; current_lexeme= আইড\n",
      "ch=  ৩ ; current_lexeme= আইডি\n",
      "ch=  ) ; current_lexeme= আইডি৩\n",
      "আইডি৩\n",
      "ch=  ; ; current_lexeme= \n",
      "ch=  \n",
      " ; current_lexeme= \n",
      "ch=  \n",
      " ; current_lexeme= \n",
      "ch=  \t ; current_lexeme= \n",
      "ch=  ফ ; current_lexeme= \n",
      "ch=  র ; current_lexeme= ফ\n",
      "ch=  ( ; current_lexeme= ফর\n",
      "ফর\n",
      "ch=  ই ; current_lexeme= \n",
      "ch=  ন ; current_lexeme= ই\n",
      "ch=  ্ ; current_lexeme= ইন\n",
      "ch=  ট ; current_lexeme= ইন্\n",
      "ch=    ; current_lexeme= ইন্ট\n",
      "ইন্ট\n",
      "ch=  ক ; current_lexeme= \n",
      "ch=  = ; current_lexeme= ক\n",
      "ক\n",
      "ch=  ০ ; current_lexeme= =\n",
      "ch=  ; ; current_lexeme= ০\n",
      "ch=    ; current_lexeme= \n",
      "ch=  ; ; current_lexeme= \n",
      "ch=  ক ; current_lexeme= \n",
      "ch=  + ; current_lexeme= ক\n",
      "ক\n",
      "ch=  + ; current_lexeme= +\n",
      "start_op= +; cur_op= +\n",
      "ch=  ) ; current_lexeme= \n",
      "ch=  \n",
      " ; current_lexeme= \n",
      "ch=  \t ; current_lexeme= \n",
      "ch=  { ; current_lexeme= \n",
      "ch=  \n",
      " ; current_lexeme= \n",
      "ch=  \t ; current_lexeme= \n",
      "ch=  \t ; current_lexeme= \n",
      "ch=  ই ; current_lexeme= \n",
      "ch=  ফ ; current_lexeme= ই\n",
      "ch=  ( ; current_lexeme= ইফ\n",
      "ইফ\n",
      "ch=  স ; current_lexeme= \n",
      "ch=  ্ ; current_lexeme= স\n",
      "ch=  ট ; current_lexeme= স্\n",
      "ch=  ্ ; current_lexeme= স্ট\n",
      "ch=  র ; current_lexeme= স্ট্\n",
      "ch=  ি ; current_lexeme= স্ট্র\n",
      "ch=  ং ; current_lexeme= স্ট্রি\n",
      "ch=  [ ; current_lexeme= স্ট্রিং\n",
      "স্ট্রিং\n",
      "ch=  ক ; current_lexeme= \n",
      "ch=  ] ; current_lexeme= ক\n",
      "ক\n",
      "ch=  = ; current_lexeme= \n",
      "ch=  = ; current_lexeme= =\n",
      "start_op= =; cur_op= =\n",
      "ch=  ' ; current_lexeme= \n",
      "ch=  \\ ; current_lexeme= \n",
      "ch=  ০ ; current_lexeme= \\\n",
      "ch=  ' ; current_lexeme= \\০\n",
      "ch=  ) ; current_lexeme= \n",
      "ch=    ; current_lexeme= \n",
      "ch=  { ; current_lexeme= \n",
      "ch=    ; current_lexeme= \n",
      "ch=  ব ; current_lexeme= \n",
      "ch=  ্ ; current_lexeme= ব\n",
      "ch=  র ; current_lexeme= ব্\n",
      "ch=  ে ; current_lexeme= ব্র\n",
      "ch=  ক ; current_lexeme= ব্রে\n",
      "ch=  ; ; current_lexeme= ব্রেক\n",
      "ব্রেক\n",
      "ch=    ; current_lexeme= \n",
      "ch=  } ; current_lexeme= \n",
      "ch=  \n",
      " ; current_lexeme= \n",
      "ch=  \t ; current_lexeme= \n",
      "ch=  } ; current_lexeme= \n",
      "ch=  \n",
      " ; current_lexeme= \n",
      "ch=  } ; current_lexeme= \n",
      "ch=  \n",
      " ; current_lexeme= \n"
     ]
    }
   ],
   "source": [
    "#Traversing through the input string:\n",
    "for ch in inputString:\n",
    "    counter -= 1\n",
    "    #print('counter=',counter)\n",
    "    print('ch= ',ch,'; current_lexeme=',current_lexeme)\n",
    "##############################################################################################\n",
    "    #Multi-line comment handling...\n",
    "    if multi_line_comment==True and current_lexeme=='*' and ch=='/':\n",
    "        multi_line_comment = False\n",
    "        current_lexeme = ''\n",
    "        continue\n",
    "    elif multi_line_comment==True:\n",
    "        current_lexeme = ch\n",
    "        continue\n",
    "##############################################################################################\n",
    "    #String handling...\n",
    "    if string_start_marker!='' and ch==string_start_marker:\n",
    "        if current_lexeme!='':\n",
    "            cur_token = ('STRING',current_lexeme)    \n",
    "            stream_of_token.append(cur_token)\n",
    "            current_lexeme = ''\n",
    "        \n",
    "        check_symbol(ch)\n",
    "        string_start_marker = ''\n",
    "        continue\n",
    "    elif string_start_marker!='' and ch in ['%','\\\\']:\n",
    "        if current_lexeme!='':\n",
    "            cur_token = ('STRING',current_lexeme)    \n",
    "            stream_of_token.append(cur_token)\n",
    "        \n",
    "        current_lexeme = ch\n",
    "        continue\n",
    "    elif string_start_marker!='' and current_lexeme=='%' and ch in ['ই','ফ','ক']:\n",
    "        scan_or_print_type(ch)\n",
    "        current_lexeme = ''\n",
    "        continue\n",
    "    elif string_start_marker!='' and current_lexeme=='\\\\' and ch in ['ন','ট']:\n",
    "        command_for_backslash(ch)\n",
    "        current_lexeme = ''\n",
    "        continue\n",
    "    elif string_start_marker!='' and current_lexeme=='\\\\' and ch=='0':\n",
    "        stream_of_token.append(('KEYWORD','NULL'))\n",
    "        current_lexeme = ''\n",
    "        continue\n",
    "    elif string_start_marker!='':\n",
    "        current_lexeme += ch\n",
    "        continue\n",
    "###############################################################################################\n",
    "\n",
    "    if comment_is_set==True and ch=='\\n':\n",
    "        comment_is_set = False\n",
    "        continue\n",
    "    elif comment_is_set==True:\n",
    "        continue\n",
    "    \n",
    "    check_for_errors(ch)\n",
    "    if error_encountered == True:\n",
    "        error_encountered = False\n",
    "        break\n",
    "    \n",
    "    if ch=='\\\\' and current_lexeme=='': #If a 'backslash(\\)' found...\n",
    "        current_lexeme = '\\\\'\n",
    "        continue\n",
    "    if current_lexeme=='\\\\' and ch in ['ন','ট']: #If a backslash(\\) is followed by the list elements...\n",
    "        command_for_backslash(ch) #check command for backslash.\n",
    "        current_lexeme = ''\n",
    "        continue\n",
    "\n",
    "    #Start symbol checking:\n",
    "    if current_lexeme == '' and ch != ' ':\n",
    "        ckeck_start_char(ch)\n",
    "        if counter==0:\n",
    "            ch = ' '\n",
    "        else:\n",
    "            continue\n",
    "\n",
    "    if scan_or_print_command==True and current_lexeme in ['ই','ফ','ক'] and ch not in list_letter:\n",
    "        scan_or_print_type(current_lexeme)\n",
    "        current_lexeme = ''\n",
    "        scan_or_print_command = False\n",
    "        if ch == ' ': #If current lexeme is terminated by space...\n",
    "            continue\n",
    "        else:\n",
    "            ckeck_start_char(ch)\n",
    "            continue\n",
    "    \n",
    "    if scan_or_print_command==True and current_lexeme in ['ই','ফ','ক'] and ch in list_letter:\n",
    "        single_char_operator('%')\n",
    "        current_lexeme += ch\n",
    "        scan_or_print_command = False\n",
    "        if counter==0:\n",
    "            ch = ' '\n",
    "        else:\n",
    "            continue\n",
    "    \n",
    "    if current_lexeme in list_operator and ch not in list_operator: #If this is a single character operator...\n",
    "\n",
    "        if current_lexeme=='%' and ch in ['ই','ফ','ক']:\n",
    "            scan_or_print_command = True\n",
    "            current_lexeme = ch\n",
    "            continue\n",
    "        \n",
    "        single_char_operator(current_lexeme)\n",
    "        current_lexeme = ''\n",
    "        scan_or_print_command = False\n",
    "        if ch == ' ': #If current lexeme is terminated by space...\n",
    "            continue\n",
    "        elif counter == 0:\n",
    "            ckeck_start_char(ch)\n",
    "            ch = ' '\n",
    "        else:\n",
    "            ckeck_start_char(ch)\n",
    "            continue\n",
    "        \n",
    "    if current_lexeme in list_operator and ch in list_operator: #If this is a double character operator...\n",
    "        double_char_operator(current_lexeme,ch)\n",
    "        current_lexeme = ''\n",
    "        continue\n",
    "    \n",
    "    #If the current character is a letter or digit, and is not the start character of the lexeme:\n",
    "    if ch in list_digit or ch in list_letter: \n",
    "        current_lexeme += ch\n",
    "        if counter == 0 and scan_or_print_command==True: #If ch is the last element...\n",
    "            single_char_operator('%')\n",
    "            scan_or_print_command = False\n",
    "            ch = ' '\n",
    "        elif counter == 0:\n",
    "            ch = ' '\n",
    "        else:\n",
    "            continue\n",
    "        \n",
    "    if (ch not in list_letter and ch not in list_digit) and start_char_is_digit==False: #If the lexeme is either a keyword or an identifier...\n",
    "        if current_lexeme=='\\\\০':\n",
    "            stream_of_token.append(('KEYWORD','NULL'))\n",
    "        elif current_lexeme is not '':\n",
    "            check_if_reserved_word(current_lexeme) #Check if the current lexeme is a keyword or an identifier.\n",
    "        \n",
    "        current_lexeme = ''\n",
    "        if ch=='.':\n",
    "            stream_of_token.append(('SYMBOL','DOT'))\n",
    "        elif ch is not ' ': #If current lexeme is terminated by space...\n",
    "            ckeck_start_char(ch) \n",
    "        continue\n",
    "        #else if current lexeme is not terminated by space, continue operations on current character...\n",
    "    \n",
    "    if ch=='.' and start_char_is_digit==True: #If the floating point symbol(.) is found in current 'number' type lexeme...\n",
    "        number_is_float = True\n",
    "        current_lexeme += ch\n",
    "        continue\n",
    "    \n",
    "    if (ch not in list_letter and ch not in list_digit) and start_char_is_digit==True: #If the lexeme is a number...\n",
    "        start_char_is_digit = False\n",
    "        \n",
    "        if current_lexeme is not '':\n",
    "            if number_is_negative is True:\n",
    "                #current_lexeme = '-'+current_lexeme #Negating current number.\n",
    "                cur_token = ('OP','NEGATIVE')\n",
    "                stream_of_token.append(cur_token)\n",
    "                \n",
    "            if number_is_float==False: #If the number is a floating point...\n",
    "                cur_token = ('INTEGER',current_lexeme)\n",
    "                stream_of_token.append(cur_token)\n",
    "            else: #If the number is an integer...\n",
    "                number_is_float = False\n",
    "                cur_token = ('FLOAT',current_lexeme)\n",
    "                stream_of_token.append(cur_token)\n",
    "        \n",
    "        current_lexeme = ''\n",
    "        if ch is not ' ': #If current lexeme is terminated by space...\n",
    "            ckeck_start_char(ch)\n",
    "        continue\n",
    "        #else if current lexeme is not terminated by space, continue operations on current character..."
   ]
  },
  {
   "cell_type": "code",
   "execution_count": 33,
   "metadata": {},
   "outputs": [
    {
     "name": "stdout",
     "output_type": "stream",
     "text": [
      "﻿ইন্ট মেইন()\n",
      "{\n",
      "\t//এটি একটি এক লাইনের কমেন্ট\n",
      "\tআইডি১ = ১০;\n",
      "\tআইডি২ = ১০.৫;\n",
      "\tআইডি৩ = \"স্ট্রিং\";\n",
      "\tকার স্ট্রিং[১০];\n",
      "\n",
      "\t/*এটি একটি\n",
      "\tএকাধিক লাইনের কমেন্ট*/\n",
      "\tপ্রিন্ট(\"ইনপুট দিনঃ %ই\",আইডি১);\n",
      "\tস্ক্যান(\"%ই\",&আইডি৩);\n",
      "\n",
      "\tফর(ইন্ট ক=০; ;ক++)\n",
      "\t{\n",
      "\t\tইফ(স্ট্রিং[ক]=='\\০') { ব্রেক; }\n",
      "\t}\n",
      "}\n",
      "\n"
     ]
    },
    {
     "data": {
      "text/plain": [
       "'\\ufeffইন্ট মেইন()\\n{\\n\\t//এটি একটি এক লাইনের কমেন্ট\\n\\tআইডি১ = ১০;\\n\\tআইডি২ = ১০.৫;\\n\\tআইডি৩ = \"স্ট্রিং\";\\n\\tকার স্ট্রিং[১০];\\n\\n\\t/*এটি একটি\\n\\tএকাধিক লাইনের কমেন্ট*/\\n\\tপ্রিন্ট(\"ইনপুট দিনঃ %ই\",আইডি১);\\n\\tস্ক্যান(\"%ই\",&আইডি৩);\\n\\n\\tফর(ইন্ট ক=০; ;ক++)\\n\\t{\\n\\t\\tইফ(স্ট্রিং[ক]==\\'\\\\০\\') { ব্রেক; }\\n\\t}\\n}\\n'"
      ]
     },
     "execution_count": 33,
     "metadata": {},
     "output_type": "execute_result"
    }
   ],
   "source": [
    "print(inputString)\n",
    "inputString"
   ]
  },
  {
   "cell_type": "code",
   "execution_count": 34,
   "metadata": {},
   "outputs": [
    {
     "name": "stdout",
     "output_type": "stream",
     "text": [
      "SYMBOL-TABLE:\n",
      "ID-NO   ID-VALUE\n",
      "-----   --------\n",
      "1        আইডি১\n",
      "2        আইডি২\n",
      "3        আইডি৩\n",
      "4        স্ট্রিং\n",
      "5        ক\n"
     ]
    }
   ],
   "source": [
    "print(\"SYMBOL-TABLE:\")\n",
    "print(\"ID-NO   ID-VALUE\")\n",
    "print(\"-----   --------\")\n",
    "for id_no, id_value in list_identifier:\n",
    "    print(\"{:<9}{}\".format(id_no, id_value))"
   ]
  },
  {
   "cell_type": "code",
   "execution_count": 35,
   "metadata": {},
   "outputs": [
    {
     "name": "stdout",
     "output_type": "stream",
     "text": [
      "STREAM-OF-TOKENS:\n",
      "TOKEN-TYPE              TOKEN-ATTRIBUTE\n",
      "----------              ---------------\n",
      "KEYWORD                  ইন্ট\n",
      "KEYWORD                  মেইন\n",
      "SYMBOL                   OPENING_PARENTHESES\n",
      "SYMBOL                   CLOSING_PARENTHESES\n",
      "SYMBOL                   OPENING_CURLY_BRACKET\n",
      "id                       1\n",
      "OP                       ASSIGN\n",
      "INTEGER                  ১০\n",
      "SYMBOL                   EOL_OR_SEPERATOR\n",
      "id                       2\n",
      "OP                       ASSIGN\n",
      "FLOAT                    ১০.৫\n",
      "SYMBOL                   EOL_OR_SEPERATOR\n",
      "id                       3\n",
      "OP                       ASSIGN\n",
      "SYMBOL                   DOUBLE_QUOTE\n",
      "STRING                   স্ট্রিং\n",
      "SYMBOL                   DOUBLE_QUOTE\n",
      "SYMBOL                   EOL_OR_SEPERATOR\n",
      "KEYWORD                  কার\n",
      "id                       4\n",
      "SYMBOL                   OPENING_SQUARE_BRACKET\n",
      "INTEGER                  ১০\n",
      "SYMBOL                   CLOSING_SQUARE_BRACKET\n",
      "SYMBOL                   EOL_OR_SEPERATOR\n",
      "KEYWORD                  প্রিন্ট\n",
      "SYMBOL                   OPENING_PARENTHESES\n",
      "SYMBOL                   DOUBLE_QUOTE\n",
      "STRING                   ইনপুট দিনঃ \n",
      "SCAN_OR_PRINT_OF_TYPE    INTEGER\n",
      "SYMBOL                   DOUBLE_QUOTE\n",
      "SYMBOL                   COMMA\n",
      "id                       1\n",
      "SYMBOL                   CLOSING_PARENTHESES\n",
      "SYMBOL                   EOL_OR_SEPERATOR\n",
      "KEYWORD                  স্ক্যান\n",
      "SYMBOL                   OPENING_PARENTHESES\n",
      "SYMBOL                   DOUBLE_QUOTE\n",
      "SCAN_OR_PRINT_OF_TYPE    INTEGER\n",
      "SYMBOL                   DOUBLE_QUOTE\n",
      "SYMBOL                   COMMA\n",
      "OP                       ASSIGN_INPUT_VALUE_TO\n",
      "id                       3\n",
      "SYMBOL                   CLOSING_PARENTHESES\n",
      "SYMBOL                   EOL_OR_SEPERATOR\n",
      "KEYWORD                  ফর\n",
      "SYMBOL                   OPENING_PARENTHESES\n",
      "KEYWORD                  ইন্ট\n",
      "id                       5\n",
      "OP                       ASSIGN\n",
      "INTEGER                  ০\n",
      "SYMBOL                   EOL_OR_SEPERATOR\n",
      "SYMBOL                   EOL_OR_SEPERATOR\n",
      "id                       5\n",
      "OP                       INCREAMENT\n",
      "SYMBOL                   CLOSING_PARENTHESES\n",
      "SYMBOL                   OPENING_CURLY_BRACKET\n",
      "KEYWORD                  ইফ\n",
      "SYMBOL                   OPENING_PARENTHESES\n",
      "id                       4\n",
      "SYMBOL                   OPENING_SQUARE_BRACKET\n",
      "id                       5\n",
      "SYMBOL                   CLOSING_SQUARE_BRACKET\n",
      "OP                       EQUAL\n",
      "SYMBOL                   SINGLE_QUOTE\n",
      "KEYWORD                  NULL\n",
      "SYMBOL                   SINGLE_QUOTE\n",
      "SYMBOL                   CLOSING_PARENTHESES\n",
      "SYMBOL                   OPENING_CURLY_BRACKET\n",
      "KEYWORD                  ব্রেক\n",
      "SYMBOL                   EOL_OR_SEPERATOR\n",
      "SYMBOL                   CLOSING_CURLY_BRACKET\n",
      "SYMBOL                   CLOSING_CURLY_BRACKET\n",
      "SYMBOL                   CLOSING_CURLY_BRACKET\n"
     ]
    }
   ],
   "source": [
    "print(\"STREAM-OF-TOKENS:\")\n",
    "print(\"TOKEN-TYPE              TOKEN-ATTRIBUTE\")\n",
    "print(\"----------              ---------------\")\n",
    "for token_type, token_attr in stream_of_token:\n",
    "    print(\"{:<25}{}\".format(token_type, token_attr))"
   ]
  },
  {
   "cell_type": "code",
   "execution_count": null,
   "metadata": {},
   "outputs": [],
   "source": []
  }
 ],
 "metadata": {
  "kernelspec": {
   "display_name": "Python 3",
   "language": "python",
   "name": "python3"
  },
  "language_info": {
   "codemirror_mode": {
    "name": "ipython",
    "version": 3
   },
   "file_extension": ".py",
   "mimetype": "text/x-python",
   "name": "python",
   "nbconvert_exporter": "python",
   "pygments_lexer": "ipython3",
   "version": "3.6.6"
  }
 },
 "nbformat": 4,
 "nbformat_minor": 2
}
